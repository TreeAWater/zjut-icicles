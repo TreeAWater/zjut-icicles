{
 "cells": [
  {
   "cell_type": "code",
   "execution_count": null,
   "id": "9e307afb",
   "metadata": {},
   "outputs": [],
   "source": [
    "#!/usr/bin/env python3\r\n",
    "#coding=utf-8\r\n",
    "\r\n",
    "# 导入Transbot驱动库\r\n",
    "from Transbot_Lib import Transbot"
   ]
  },
  {
   "cell_type": "code",
   "execution_count": null,
   "id": "ae40cb22",
   "metadata": {},
   "outputs": [],
   "source": [
    "# 创建Transbot对象 bot\r\n",
    "bot = Transbot()\r\n",
    "# help 能够打印bot的所有方法和备注内容。\r\n",
    "help(bot)"
   ]
  },
  {
   "cell_type": "code",
   "execution_count": null,
   "id": "bb99a475",
   "metadata": {},
   "outputs": [],
   "source": [
    "# 启动接收数据，只能启动一次，所有读取数据的功能都是基于此方法\r\n",
    "bot.create_receive_threading()"
   ]
  },
  {
   "cell_type": "code",
   "execution_count": null,
   "id": "59cd048e",
   "metadata": {},
   "outputs": [],
   "source": [
    "# 读取版本号\r\n",
    "version = bot.get_version()\r\n",
    "print(version)"
   ]
  },
  {
   "cell_type": "code",
   "execution_count": null,
   "id": "cc131eb4",
   "metadata": {},
   "outputs": [],
   "source": [
    "# 读取电池电压值\r\n",
    "voltage = bot.get_battery_voltage()\r\n",
    "print(voltage)"
   ]
  },
  {
   "cell_type": "code",
   "execution_count": null,
   "id": "af8a4ba6",
   "metadata": {},
   "outputs": [],
   "source": [
    "# 程序结束后请删除transbot对象，避免在其他程序中使用transbot库造成冲突\r\n",
    "del bot"
   ]
  },
  {
   "cell_type": "code",
   "execution_count": null,
   "id": "40dcb7f0",
   "metadata": {},
   "outputs": [],
   "source": []
  }
 ],
 "metadata": {
  "kernelspec": {
   "display_name": "Python 3",
   "language": "python",
   "name": "python3"
  },
  "language_info": {
   "codemirror_mode": {
    "name": "ipython",
    "version": 3
   },
   "file_extension": ".py",
   "mimetype": "text/x-python",
   "name": "python",
   "nbconvert_exporter": "python",
   "pygments_lexer": "ipython3",
   "version": "3.6.9"
  }
 },
 "nbformat": 4,
 "nbformat_minor": 5
}

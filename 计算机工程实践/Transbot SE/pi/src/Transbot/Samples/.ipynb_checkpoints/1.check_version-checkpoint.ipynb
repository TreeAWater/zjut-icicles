{
 "cells": [
  {
   "cell_type": "code",
   "execution_count": 1,
   "id": "e571ad54-c92e-465d-a0b0-4bc0d07579d3",
   "metadata": {},
   "outputs": [],
   "source": [
    "#!/usr/bin/env python3\n",
    "#coding=utf-8\n",
    "import time\n",
    "from Transbot_Lib import Transbot"
   ]
  },
  {
   "cell_type": "code",
   "execution_count": 2,
   "id": "4e92f0c1-b805-44d3-aeff-dea15b7da0df",
   "metadata": {},
   "outputs": [
    {
     "name": "stdout",
     "output_type": "stream",
     "text": [
      "Serial Opened! Baudrate=115200\n"
     ]
    }
   ],
   "source": [
    "# 创建Transbot对象 bot\n",
    "bot = Transbot()\n",
    "# help(bot)"
   ]
  },
  {
   "cell_type": "code",
   "execution_count": 3,
   "id": "126b39d0-7eca-4fc0-a95d-8df9b48ca442",
   "metadata": {},
   "outputs": [],
   "source": [
    "# 启动接收数据\n",
    "bot.create_receive_threading()"
   ]
  },
  {
   "cell_type": "code",
   "execution_count": 4,
   "id": "ec74c7bb-d38a-4498-b484-68dbebc62b9b",
   "metadata": {},
   "outputs": [
    {
     "name": "stdout",
     "output_type": "stream",
     "text": [
      "3.1\n"
     ]
    }
   ],
   "source": [
    "# 读取版本号\n",
    "version = bot.get_version()\n",
    "print(version)"
   ]
  },
  {
   "cell_type": "code",
   "execution_count": 5,
   "id": "9e8477cb-770e-4046-8b62-3b9008d98aae",
   "metadata": {},
   "outputs": [],
   "source": [
    "# 程序结束后请删除transbot对象，避免在其他程序中使用transbot库造成冲突\n",
    "del bot"
   ]
  },
  {
   "cell_type": "code",
   "execution_count": null,
   "id": "dfc7ca35-38ea-40bd-8630-85fdf1dc263c",
   "metadata": {},
   "outputs": [],
   "source": []
  }
 ],
 "metadata": {
  "kernelspec": {
   "display_name": "Python 3",
   "language": "python",
   "name": "python3"
  },
  "language_info": {
   "codemirror_mode": {
    "name": "ipython",
    "version": 3
   },
   "file_extension": ".py",
   "mimetype": "text/x-python",
   "name": "python",
   "nbconvert_exporter": "python",
   "pygments_lexer": "ipython3",
   "version": "3.6.9"
  }
 },
 "nbformat": 4,
 "nbformat_minor": 5
}

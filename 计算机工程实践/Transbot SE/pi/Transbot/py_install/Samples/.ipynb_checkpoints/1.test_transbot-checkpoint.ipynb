{
 "cells": [
  {
   "cell_type": "code",
   "execution_count": null,
   "id": "e571ad54-c92e-465d-a0b0-4bc0d07579d3",
   "metadata": {},
   "outputs": [],
   "source": [
    "#!/usr/bin/env python3\n",
    "#coding=utf-8\n",
    "\n",
    "# 导入Transbot驱动库\n",
    "from Transbot_Lib import Transbot"
   ]
  },
  {
   "cell_type": "code",
   "execution_count": null,
   "id": "4e92f0c1-b805-44d3-aeff-dea15b7da0df",
   "metadata": {},
   "outputs": [],
   "source": [
    "# 创建Transbot对象 bot\n",
    "bot = Transbot()\n",
    "# help 能够打印bot的所有方法和备注内容。\n",
    "help(bot)"
   ]
  },
  {
   "cell_type": "code",
   "execution_count": null,
   "id": "126b39d0-7eca-4fc0-a95d-8df9b48ca442",
   "metadata": {},
   "outputs": [],
   "source": [
    "# 启动接收数据，只需启动一次，所有读取数据的功能都是基于此方法\n",
    "bot.create_receive_threading()"
   ]
  },
  {
   "cell_type": "code",
   "execution_count": null,
   "id": "ec74c7bb-d38a-4498-b484-68dbebc62b9b",
   "metadata": {},
   "outputs": [],
   "source": [
    "# 读取版本号\n",
    "version = bot.get_version()\n",
    "print(version)"
   ]
  },
  {
   "cell_type": "code",
   "execution_count": null,
   "id": "d7fd837e-bd0b-494c-8455-ac9ea3ff0949",
   "metadata": {},
   "outputs": [],
   "source": [
    "# 读取电池电压值\n",
    "voltage = bot.get_battery_voltage()\n",
    "print(voltage)"
   ]
  },
  {
   "cell_type": "code",
   "execution_count": null,
   "id": "9e8477cb-770e-4046-8b62-3b9008d98aae",
   "metadata": {},
   "outputs": [],
   "source": [
    "# 程序结束后请删除transbot对象，避免在其他程序中使用transbot库造成冲突\n",
    "del bot"
   ]
  },
  {
   "cell_type": "code",
   "execution_count": null,
   "id": "dfc7ca35-38ea-40bd-8630-85fdf1dc263c",
   "metadata": {},
   "outputs": [],
   "source": []
  }
 ],
 "metadata": {
  "kernelspec": {
   "display_name": "Python 3",
   "language": "python",
   "name": "python3"
  },
  "language_info": {
   "codemirror_mode": {
    "name": "ipython",
    "version": 3
   },
   "file_extension": ".py",
   "mimetype": "text/x-python",
   "name": "python",
   "nbconvert_exporter": "python",
   "pygments_lexer": "ipython3",
   "version": "3.6.9"
  }
 },
 "nbformat": 4,
 "nbformat_minor": 5
}

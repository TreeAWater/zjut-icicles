{
 "cells": [
  {
   "cell_type": "code",
   "execution_count": 1,
   "id": "5ac6e98b-cc7c-4473-af5c-de50da6d88b8",
   "metadata": {},
   "outputs": [],
   "source": [
    "#!/usr/bin/env python3\n",
    "#coding=utf-8\n",
    "import time\n",
    "from Transbot_Lib import Transbot\n",
    "from ipywidgets import interact\n",
    "import ipywidgets as widgets"
   ]
  },
  {
   "cell_type": "code",
   "execution_count": 2,
   "id": "a61e4c10-6650-47e0-bd01-9dada327fd21",
   "metadata": {},
   "outputs": [
    {
     "name": "stdout",
     "output_type": "stream",
     "text": [
      "Serial Opened! Baudrate=115200\n"
     ]
    }
   ],
   "source": [
    "# 创建Transbot对象 bot\n",
    "bot = Transbot()"
   ]
  },
  {
   "cell_type": "markdown",
   "id": "a789d509-0306-422f-a5e0-5793f42c788b",
   "metadata": {},
   "source": [
    "滑块widgets.IntSlider参数解释：\n",
    "min=最小值,max=最大值,step=最小变化量,value=默认值\n",
    "interact将滑块显示出来，并且负责处理滑动产生的事件。"
   ]
  },
  {
   "cell_type": "code",
   "execution_count": 3,
   "id": "6a8d5e1b-b3b8-4bd2-b8c7-9e989c7870c9",
   "metadata": {},
   "outputs": [
    {
     "data": {
      "application/vnd.jupyter.widget-view+json": {
       "model_id": "af3fa95308244d9ab211d81176eb120a",
       "version_major": 2,
       "version_minor": 0
      },
      "text/plain": [
       "interactive(children=(IntSlider(value=90, description='x', max=150, min=30), Output()), _dom_classes=('widget-…"
      ]
     },
     "metadata": {},
     "output_type": "display_data"
    }
   ],
   "source": [
    "# 深度摄像头控制舵机云台。增加最大值和最小值限制\n",
    "def pwm_servo_x(x):\n",
    "    bot.set_pwm_servo(1, x)\n",
    "    return x\n",
    "\n",
    "# 创建一个滑块来控制舵机左右转动\n",
    "interact(pwm_servo_x, x=widgets.IntSlider(min=30,max=150,step=1,value=90));"
   ]
  },
  {
   "cell_type": "code",
   "execution_count": 5,
   "id": "649029f5-902c-42aa-a226-bb57cbd5d148",
   "metadata": {},
   "outputs": [
    {
     "data": {
      "application/vnd.jupyter.widget-view+json": {
       "model_id": "0fbba439853140ff9dbc788778f96c41",
       "version_major": 2,
       "version_minor": 0
      },
      "text/plain": [
       "interactive(children=(IntSlider(value=90, description='x', max=180), IntSlider(value=90, description='y', max=…"
      ]
     },
     "metadata": {},
     "output_type": "display_data"
    }
   ],
   "source": [
    "# 普通摄像头的二自由度云台控制。\n",
    "# 注意：深度相机不要运行此命令，由于没有限制角度可能会撞上其他东西。\n",
    "def pwm_servo(x, y):\n",
    "    bot.set_pwm_servo(1, x)\n",
    "    bot.set_pwm_servo(2, y)\n",
    "    return x, y\n",
    "\n",
    "# 创建两个滑块来控制舵机云台\n",
    "interact(pwm_servo, x=widgets.IntSlider(min=0,max=180,step=1,value=90), \\\n",
    "         y=widgets.IntSlider(min=0,max=180,step=1,value=90));\n"
   ]
  },
  {
   "cell_type": "code",
   "execution_count": 6,
   "id": "dca91e00-07fb-409d-a4e5-6774d929ad36",
   "metadata": {},
   "outputs": [
    {
     "name": "stdout",
     "output_type": "stream",
     "text": [
      "serial Close!\n"
     ]
    }
   ],
   "source": [
    "# 程序结束后请删除transbot对象，避免在其他程序中使用transbot库造成冲突\n",
    "del bot"
   ]
  },
  {
   "cell_type": "code",
   "execution_count": null,
   "id": "18213196-e5e1-4ae4-9960-b5e6f47f6875",
   "metadata": {},
   "outputs": [],
   "source": []
  }
 ],
 "metadata": {
  "kernelspec": {
   "display_name": "Python 3",
   "language": "python",
   "name": "python3"
  },
  "language_info": {
   "codemirror_mode": {
    "name": "ipython",
    "version": 3
   },
   "file_extension": ".py",
   "mimetype": "text/x-python",
   "name": "python",
   "nbconvert_exporter": "python",
   "pygments_lexer": "ipython3",
   "version": "3.6.9"
  }
 },
 "nbformat": 4,
 "nbformat_minor": 5
}
